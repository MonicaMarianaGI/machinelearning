{
 "cells": [
  {
   "cell_type": "code",
   "execution_count": 1,
   "id": "970b3909-4ee5-499e-9f33-fd54100b3c43",
   "metadata": {},
   "outputs": [],
   "source": [
    "import pandas as pd"
   ]
  },
  {
   "cell_type": "code",
   "execution_count": 2,
   "id": "6979ebd4-6ff2-442d-9f50-b04689953cba",
   "metadata": {},
   "outputs": [
    {
     "data": {
      "text/html": [
       "<div>\n",
       "<style scoped>\n",
       "    .dataframe tbody tr th:only-of-type {\n",
       "        vertical-align: middle;\n",
       "    }\n",
       "\n",
       "    .dataframe tbody tr th {\n",
       "        vertical-align: top;\n",
       "    }\n",
       "\n",
       "    .dataframe thead th {\n",
       "        text-align: right;\n",
       "    }\n",
       "</style>\n",
       "<table border=\"1\" class=\"dataframe\">\n",
       "  <thead>\n",
       "    <tr style=\"text-align: right;\">\n",
       "      <th></th>\n",
       "      <th>name</th>\n",
       "      <th>platform</th>\n",
       "      <th>release_date</th>\n",
       "      <th>summary</th>\n",
       "      <th>meta_score</th>\n",
       "      <th>user_review</th>\n",
       "    </tr>\n",
       "  </thead>\n",
       "  <tbody>\n",
       "    <tr>\n",
       "      <th>0</th>\n",
       "      <td>The Legend of Zelda: Ocarina of Time</td>\n",
       "      <td>Nintendo 64</td>\n",
       "      <td>November 23, 1998</td>\n",
       "      <td>As a young boy, Link is tricked by Ganondorf, ...</td>\n",
       "      <td>99</td>\n",
       "      <td>9.1</td>\n",
       "    </tr>\n",
       "    <tr>\n",
       "      <th>1</th>\n",
       "      <td>Tony Hawk's Pro Skater 2</td>\n",
       "      <td>PlayStation</td>\n",
       "      <td>September 20, 2000</td>\n",
       "      <td>As most major publishers' development efforts ...</td>\n",
       "      <td>98</td>\n",
       "      <td>7.4</td>\n",
       "    </tr>\n",
       "    <tr>\n",
       "      <th>2</th>\n",
       "      <td>Grand Theft Auto IV</td>\n",
       "      <td>PlayStation 3</td>\n",
       "      <td>April 29, 2008</td>\n",
       "      <td>[Metacritic's 2008 PS3 Game of the Year; Also ...</td>\n",
       "      <td>98</td>\n",
       "      <td>7.7</td>\n",
       "    </tr>\n",
       "    <tr>\n",
       "      <th>3</th>\n",
       "      <td>SoulCalibur</td>\n",
       "      <td>Dreamcast</td>\n",
       "      <td>September 8, 1999</td>\n",
       "      <td>This is a tale of souls and swords, transcendi...</td>\n",
       "      <td>98</td>\n",
       "      <td>8.4</td>\n",
       "    </tr>\n",
       "    <tr>\n",
       "      <th>4</th>\n",
       "      <td>Grand Theft Auto IV</td>\n",
       "      <td>Xbox 360</td>\n",
       "      <td>April 29, 2008</td>\n",
       "      <td>[Metacritic's 2008 Xbox 360 Game of the Year; ...</td>\n",
       "      <td>98</td>\n",
       "      <td>7.9</td>\n",
       "    </tr>\n",
       "    <tr>\n",
       "      <th>...</th>\n",
       "      <td>...</td>\n",
       "      <td>...</td>\n",
       "      <td>...</td>\n",
       "      <td>...</td>\n",
       "      <td>...</td>\n",
       "      <td>...</td>\n",
       "    </tr>\n",
       "    <tr>\n",
       "      <th>18795</th>\n",
       "      <td>Fast &amp; Furious: Showdown</td>\n",
       "      <td>Xbox 360</td>\n",
       "      <td>May 21, 2013</td>\n",
       "      <td>Fast &amp; Furious: Showdown takes some of the fra...</td>\n",
       "      <td>22</td>\n",
       "      <td>1.3</td>\n",
       "    </tr>\n",
       "    <tr>\n",
       "      <th>18796</th>\n",
       "      <td>Drake of the 99 Dragons</td>\n",
       "      <td>Xbox</td>\n",
       "      <td>November 3, 2003</td>\n",
       "      <td>Drake is out for revenge in a supernatural Hon...</td>\n",
       "      <td>22</td>\n",
       "      <td>1.7</td>\n",
       "    </tr>\n",
       "    <tr>\n",
       "      <th>18797</th>\n",
       "      <td>Afro Samurai 2: Revenge of Kuma Volume One</td>\n",
       "      <td>PlayStation 4</td>\n",
       "      <td>September 22, 2015</td>\n",
       "      <td>Head out on a journey of redemption, driven by...</td>\n",
       "      <td>21</td>\n",
       "      <td>2.9</td>\n",
       "    </tr>\n",
       "    <tr>\n",
       "      <th>18798</th>\n",
       "      <td>Infestation: Survivor Stories (The War Z)</td>\n",
       "      <td>PC</td>\n",
       "      <td>October 15, 2012</td>\n",
       "      <td>(Formerly known as \"The War Z\") It has been 5 ...</td>\n",
       "      <td>20</td>\n",
       "      <td>1.7</td>\n",
       "    </tr>\n",
       "    <tr>\n",
       "      <th>18799</th>\n",
       "      <td>Leisure Suit Larry: Box Office Bust</td>\n",
       "      <td>PC</td>\n",
       "      <td>March 31, 2009</td>\n",
       "      <td>The Leisure Suit Larry: Box Office Bust video ...</td>\n",
       "      <td>20</td>\n",
       "      <td>2.0</td>\n",
       "    </tr>\n",
       "  </tbody>\n",
       "</table>\n",
       "<p>18800 rows × 6 columns</p>\n",
       "</div>"
      ],
      "text/plain": [
       "                                             name        platform  \\\n",
       "0            The Legend of Zelda: Ocarina of Time     Nintendo 64   \n",
       "1                        Tony Hawk's Pro Skater 2     PlayStation   \n",
       "2                             Grand Theft Auto IV   PlayStation 3   \n",
       "3                                     SoulCalibur       Dreamcast   \n",
       "4                             Grand Theft Auto IV        Xbox 360   \n",
       "...                                           ...             ...   \n",
       "18795                    Fast & Furious: Showdown        Xbox 360   \n",
       "18796                     Drake of the 99 Dragons            Xbox   \n",
       "18797  Afro Samurai 2: Revenge of Kuma Volume One   PlayStation 4   \n",
       "18798   Infestation: Survivor Stories (The War Z)              PC   \n",
       "18799         Leisure Suit Larry: Box Office Bust              PC   \n",
       "\n",
       "             release_date                                            summary  \\\n",
       "0       November 23, 1998  As a young boy, Link is tricked by Ganondorf, ...   \n",
       "1      September 20, 2000  As most major publishers' development efforts ...   \n",
       "2          April 29, 2008  [Metacritic's 2008 PS3 Game of the Year; Also ...   \n",
       "3       September 8, 1999  This is a tale of souls and swords, transcendi...   \n",
       "4          April 29, 2008  [Metacritic's 2008 Xbox 360 Game of the Year; ...   \n",
       "...                   ...                                                ...   \n",
       "18795        May 21, 2013  Fast & Furious: Showdown takes some of the fra...   \n",
       "18796    November 3, 2003  Drake is out for revenge in a supernatural Hon...   \n",
       "18797  September 22, 2015  Head out on a journey of redemption, driven by...   \n",
       "18798    October 15, 2012  (Formerly known as \"The War Z\") It has been 5 ...   \n",
       "18799      March 31, 2009  The Leisure Suit Larry: Box Office Bust video ...   \n",
       "\n",
       "       meta_score user_review  \n",
       "0              99         9.1  \n",
       "1              98         7.4  \n",
       "2              98         7.7  \n",
       "3              98         8.4  \n",
       "4              98         7.9  \n",
       "...           ...         ...  \n",
       "18795          22         1.3  \n",
       "18796          22         1.7  \n",
       "18797          21         2.9  \n",
       "18798          20         1.7  \n",
       "18799          20         2.0  \n",
       "\n",
       "[18800 rows x 6 columns]"
      ]
     },
     "execution_count": 2,
     "metadata": {},
     "output_type": "execute_result"
    }
   ],
   "source": [
    "#Lectura a los datos del dataset de los videojuegos por dataframe\n",
    "df_videojuegos = pd.read_csv('dataset_videojuegos.csv')\n",
    "df_videojuegos"
   ]
  },
  {
   "cell_type": "code",
   "execution_count": 3,
   "id": "60014ce1-4ac8-47fd-ab17-f2696f535ad1",
   "metadata": {},
   "outputs": [
    {
     "name": "stdout",
     "output_type": "stream",
     "text": [
      "<class 'pandas.core.frame.DataFrame'>\n",
      "RangeIndex: 18800 entries, 0 to 18799\n",
      "Data columns (total 6 columns):\n",
      " #   Column        Non-Null Count  Dtype \n",
      "---  ------        --------------  ----- \n",
      " 0   name          18800 non-null  object\n",
      " 1   platform      18800 non-null  object\n",
      " 2   release_date  18800 non-null  object\n",
      " 3   summary       18686 non-null  object\n",
      " 4   meta_score    18800 non-null  int64 \n",
      " 5   user_review   18800 non-null  object\n",
      "dtypes: int64(1), object(5)\n",
      "memory usage: 881.4+ KB\n"
     ]
    }
   ],
   "source": [
    "# Variables categoricas y numericas\n",
    "df_videojuegos.info()"
   ]
  },
  {
   "cell_type": "code",
   "execution_count": 17,
   "id": "751fd0b1-48f5-4a6c-a086-0252cf7928a4",
   "metadata": {},
   "outputs": [
    {
     "data": {
      "text/plain": [
       "name               0\n",
       "platform           0\n",
       "release_date       0\n",
       "summary          114\n",
       "meta_score         0\n",
       "user_review     1365\n",
       "dtype: int64"
      ]
     },
     "execution_count": 17,
     "metadata": {},
     "output_type": "execute_result"
    }
   ],
   "source": [
    "# Convertir release_date a formato de fecha, manejando errores\n",
    "df_videojuegos[\"release_date\"] = pd.to_datetime(df_videojuegos[\"release_date\"], errors=\"coerce\")\n",
    "\n",
    "# Convertir meta_score a valores numéricos (debe ser entero)\n",
    "df_videojuegos[\"meta_score\"] = pd.to_numeric(df_videojuegos[\"meta_score\"], errors=\"coerce\")\n",
    "\n",
    "# Convertir user_review a valores numéricos (puede contener valores como \"tbd\" que deben ser tratados como nulos)\n",
    "df_videojuegos[\"user_review\"] = pd.to_numeric(df_videojuegos[\"user_review\"], errors=\"coerce\")\n",
    "\n",
    "# Identificar valores nulos después de la conversión\n",
    "null = df_videojuegos.isnull().sum()\n",
    "\n",
    "# Eliminar duplicados si existen\n",
    "df_vid = df_videojuegos.drop_duplicates()\n",
    "\n",
    "# Mostrar los valores nulos después de la limpieza\n",
    "null\n"
   ]
  },
  {
   "cell_type": "code",
   "execution_count": 19,
   "id": "6e210bc1-be8d-472b-a338-66eef63f1c64",
   "metadata": {},
   "outputs": [
    {
     "name": "stdout",
     "output_type": "stream",
     "text": [
      "\u001b[1;31mFilas Duplicadas\u001b[0m\n",
      " 0\n"
     ]
    }
   ],
   "source": [
    "# Identificar filas duplicadas\n",
    "duplicadas = df_videojuegos.duplicated().sum()\n",
    "print(\"\\033[1;31m\" + \"Filas Duplicadas\" + \"\\033[0m\\n\", duplicadas)"
   ]
  },
  {
   "cell_type": "code",
   "execution_count": 21,
   "id": "b6f7a776-bd1a-4eea-a9b2-1feab1ed0a7e",
   "metadata": {},
   "outputs": [
    {
     "name": "stdout",
     "output_type": "stream",
     "text": [
      "\u001b[1;31mColumnas Categóricas\u001b[0m\n",
      "\n",
      " ['name', 'platform', 'summary']\n"
     ]
    }
   ],
   "source": [
    "# Identificar las filas categoricas\n",
    "df_vid = df_videojuegos.select_dtypes(include = ['object']).columns.tolist()\n",
    "print(\"\\033[1;31m\" + \"Columnas Categóricas\" + \"\\033[0m\\n\\n\", df_vid)"
   ]
  },
  {
   "cell_type": "code",
   "execution_count": 23,
   "id": "90ee025d-21e4-475c-8669-7ab6d9363f46",
   "metadata": {},
   "outputs": [
    {
     "data": {
      "text/html": [
       "<div>\n",
       "<style scoped>\n",
       "    .dataframe tbody tr th:only-of-type {\n",
       "        vertical-align: middle;\n",
       "    }\n",
       "\n",
       "    .dataframe tbody tr th {\n",
       "        vertical-align: top;\n",
       "    }\n",
       "\n",
       "    .dataframe thead th {\n",
       "        text-align: right;\n",
       "    }\n",
       "</style>\n",
       "<table border=\"1\" class=\"dataframe\">\n",
       "  <thead>\n",
       "    <tr style=\"text-align: right;\">\n",
       "      <th></th>\n",
       "      <th>name</th>\n",
       "      <th>platform</th>\n",
       "      <th>release_date</th>\n",
       "      <th>summary</th>\n",
       "      <th>meta_score</th>\n",
       "      <th>user_review</th>\n",
       "    </tr>\n",
       "  </thead>\n",
       "  <tbody>\n",
       "    <tr>\n",
       "      <th>0</th>\n",
       "      <td>The Legend of Zelda: Ocarina of Time</td>\n",
       "      <td>Nintendo 64</td>\n",
       "      <td>1998-11-23</td>\n",
       "      <td>As a young boy, Link is tricked by Ganondorf, ...</td>\n",
       "      <td>99</td>\n",
       "      <td>9.1</td>\n",
       "    </tr>\n",
       "    <tr>\n",
       "      <th>1</th>\n",
       "      <td>Tony Hawk's Pro Skater 2</td>\n",
       "      <td>PlayStation</td>\n",
       "      <td>2000-09-20</td>\n",
       "      <td>As most major publishers' development efforts ...</td>\n",
       "      <td>98</td>\n",
       "      <td>7.4</td>\n",
       "    </tr>\n",
       "    <tr>\n",
       "      <th>2</th>\n",
       "      <td>Grand Theft Auto IV</td>\n",
       "      <td>PlayStation 3</td>\n",
       "      <td>2008-04-29</td>\n",
       "      <td>[Metacritic's 2008 PS3 Game of the Year; Also ...</td>\n",
       "      <td>98</td>\n",
       "      <td>7.7</td>\n",
       "    </tr>\n",
       "    <tr>\n",
       "      <th>3</th>\n",
       "      <td>SoulCalibur</td>\n",
       "      <td>Dreamcast</td>\n",
       "      <td>1999-09-08</td>\n",
       "      <td>This is a tale of souls and swords, transcendi...</td>\n",
       "      <td>98</td>\n",
       "      <td>8.4</td>\n",
       "    </tr>\n",
       "    <tr>\n",
       "      <th>4</th>\n",
       "      <td>Grand Theft Auto IV</td>\n",
       "      <td>Xbox 360</td>\n",
       "      <td>2008-04-29</td>\n",
       "      <td>[Metacritic's 2008 Xbox 360 Game of the Year; ...</td>\n",
       "      <td>98</td>\n",
       "      <td>7.9</td>\n",
       "    </tr>\n",
       "  </tbody>\n",
       "</table>\n",
       "</div>"
      ],
      "text/plain": [
       "                                   name        platform release_date  \\\n",
       "0  The Legend of Zelda: Ocarina of Time     Nintendo 64   1998-11-23   \n",
       "1              Tony Hawk's Pro Skater 2     PlayStation   2000-09-20   \n",
       "2                   Grand Theft Auto IV   PlayStation 3   2008-04-29   \n",
       "3                           SoulCalibur       Dreamcast   1999-09-08   \n",
       "4                   Grand Theft Auto IV        Xbox 360   2008-04-29   \n",
       "\n",
       "                                             summary  meta_score  user_review  \n",
       "0  As a young boy, Link is tricked by Ganondorf, ...          99          9.1  \n",
       "1  As most major publishers' development efforts ...          98          7.4  \n",
       "2  [Metacritic's 2008 PS3 Game of the Year; Also ...          98          7.7  \n",
       "3  This is a tale of souls and swords, transcendi...          98          8.4  \n",
       "4  [Metacritic's 2008 Xbox 360 Game of the Year; ...          98          7.9  "
      ]
     },
     "execution_count": 23,
     "metadata": {},
     "output_type": "execute_result"
    }
   ],
   "source": [
    "df_videojuegos.head()"
   ]
  },
  {
   "cell_type": "code",
   "execution_count": 27,
   "id": "afe71ab5-a0f3-47d4-989a-078f2537f0e5",
   "metadata": {},
   "outputs": [
    {
     "name": "stdout",
     "output_type": "stream",
     "text": [
      "\u001b[33;1mFilas faltantes en user_review:\u001b[0m 1365, \u001b[33;1mPorcentaje:\u001b[0m 7.26%\n",
      "\u001b[33;1mFilas faltantes en summary:\u001b[0m 114, \u001b[33;1mPorcentaje:\u001b[0m 0.61%\n"
     ]
    }
   ],
   "source": [
    "# Contar la data faltante (nulos)\n",
    "null = df_videojuegos.isnull().sum().sort_values(ascending = False)\n",
    "null_counts = null[null > 0]\n",
    "\n",
    "for col in null_counts.index:\n",
    "    perc = ((df_videojuegos[col].isnull().sum() / len(df_videojuegos)) * 100).round(2)\n",
    "    print(f\"\\033[33;1mFilas faltantes en {col}:\\033[0m {df_videojuegos[col].isnull().sum()}, \\033[33;1mPorcentaje:\\033[0m {perc}%\")"
   ]
  },
  {
   "cell_type": "code",
   "execution_count": 29,
   "id": "723c89b3-6ff3-43e5-bcbc-72024702b614",
   "metadata": {},
   "outputs": [
    {
     "name": "stdout",
     "output_type": "stream",
     "text": [
      "\u001b[1;31mEliminar Columna User_Review\u001b[0m\n",
      "\n"
     ]
    },
    {
     "data": {
      "text/html": [
       "<div>\n",
       "<style scoped>\n",
       "    .dataframe tbody tr th:only-of-type {\n",
       "        vertical-align: middle;\n",
       "    }\n",
       "\n",
       "    .dataframe tbody tr th {\n",
       "        vertical-align: top;\n",
       "    }\n",
       "\n",
       "    .dataframe thead th {\n",
       "        text-align: right;\n",
       "    }\n",
       "</style>\n",
       "<table border=\"1\" class=\"dataframe\">\n",
       "  <thead>\n",
       "    <tr style=\"text-align: right;\">\n",
       "      <th></th>\n",
       "      <th>name</th>\n",
       "      <th>platform</th>\n",
       "      <th>release_date</th>\n",
       "      <th>summary</th>\n",
       "      <th>meta_score</th>\n",
       "    </tr>\n",
       "  </thead>\n",
       "  <tbody>\n",
       "    <tr>\n",
       "      <th>0</th>\n",
       "      <td>The Legend of Zelda: Ocarina of Time</td>\n",
       "      <td>Nintendo 64</td>\n",
       "      <td>1998-11-23</td>\n",
       "      <td>As a young boy, Link is tricked by Ganondorf, ...</td>\n",
       "      <td>99</td>\n",
       "    </tr>\n",
       "    <tr>\n",
       "      <th>1</th>\n",
       "      <td>Tony Hawk's Pro Skater 2</td>\n",
       "      <td>PlayStation</td>\n",
       "      <td>2000-09-20</td>\n",
       "      <td>As most major publishers' development efforts ...</td>\n",
       "      <td>98</td>\n",
       "    </tr>\n",
       "    <tr>\n",
       "      <th>2</th>\n",
       "      <td>Grand Theft Auto IV</td>\n",
       "      <td>PlayStation 3</td>\n",
       "      <td>2008-04-29</td>\n",
       "      <td>[Metacritic's 2008 PS3 Game of the Year; Also ...</td>\n",
       "      <td>98</td>\n",
       "    </tr>\n",
       "    <tr>\n",
       "      <th>3</th>\n",
       "      <td>SoulCalibur</td>\n",
       "      <td>Dreamcast</td>\n",
       "      <td>1999-09-08</td>\n",
       "      <td>This is a tale of souls and swords, transcendi...</td>\n",
       "      <td>98</td>\n",
       "    </tr>\n",
       "    <tr>\n",
       "      <th>4</th>\n",
       "      <td>Grand Theft Auto IV</td>\n",
       "      <td>Xbox 360</td>\n",
       "      <td>2008-04-29</td>\n",
       "      <td>[Metacritic's 2008 Xbox 360 Game of the Year; ...</td>\n",
       "      <td>98</td>\n",
       "    </tr>\n",
       "    <tr>\n",
       "      <th>...</th>\n",
       "      <td>...</td>\n",
       "      <td>...</td>\n",
       "      <td>...</td>\n",
       "      <td>...</td>\n",
       "      <td>...</td>\n",
       "    </tr>\n",
       "    <tr>\n",
       "      <th>18795</th>\n",
       "      <td>Fast &amp; Furious: Showdown</td>\n",
       "      <td>Xbox 360</td>\n",
       "      <td>2013-05-21</td>\n",
       "      <td>Fast &amp; Furious: Showdown takes some of the fra...</td>\n",
       "      <td>22</td>\n",
       "    </tr>\n",
       "    <tr>\n",
       "      <th>18796</th>\n",
       "      <td>Drake of the 99 Dragons</td>\n",
       "      <td>Xbox</td>\n",
       "      <td>2003-11-03</td>\n",
       "      <td>Drake is out for revenge in a supernatural Hon...</td>\n",
       "      <td>22</td>\n",
       "    </tr>\n",
       "    <tr>\n",
       "      <th>18797</th>\n",
       "      <td>Afro Samurai 2: Revenge of Kuma Volume One</td>\n",
       "      <td>PlayStation 4</td>\n",
       "      <td>2015-09-22</td>\n",
       "      <td>Head out on a journey of redemption, driven by...</td>\n",
       "      <td>21</td>\n",
       "    </tr>\n",
       "    <tr>\n",
       "      <th>18798</th>\n",
       "      <td>Infestation: Survivor Stories (The War Z)</td>\n",
       "      <td>PC</td>\n",
       "      <td>2012-10-15</td>\n",
       "      <td>(Formerly known as \"The War Z\") It has been 5 ...</td>\n",
       "      <td>20</td>\n",
       "    </tr>\n",
       "    <tr>\n",
       "      <th>18799</th>\n",
       "      <td>Leisure Suit Larry: Box Office Bust</td>\n",
       "      <td>PC</td>\n",
       "      <td>2009-03-31</td>\n",
       "      <td>The Leisure Suit Larry: Box Office Bust video ...</td>\n",
       "      <td>20</td>\n",
       "    </tr>\n",
       "  </tbody>\n",
       "</table>\n",
       "<p>18800 rows × 5 columns</p>\n",
       "</div>"
      ],
      "text/plain": [
       "                                             name        platform  \\\n",
       "0            The Legend of Zelda: Ocarina of Time     Nintendo 64   \n",
       "1                        Tony Hawk's Pro Skater 2     PlayStation   \n",
       "2                             Grand Theft Auto IV   PlayStation 3   \n",
       "3                                     SoulCalibur       Dreamcast   \n",
       "4                             Grand Theft Auto IV        Xbox 360   \n",
       "...                                           ...             ...   \n",
       "18795                    Fast & Furious: Showdown        Xbox 360   \n",
       "18796                     Drake of the 99 Dragons            Xbox   \n",
       "18797  Afro Samurai 2: Revenge of Kuma Volume One   PlayStation 4   \n",
       "18798   Infestation: Survivor Stories (The War Z)              PC   \n",
       "18799         Leisure Suit Larry: Box Office Bust              PC   \n",
       "\n",
       "      release_date                                            summary  \\\n",
       "0       1998-11-23  As a young boy, Link is tricked by Ganondorf, ...   \n",
       "1       2000-09-20  As most major publishers' development efforts ...   \n",
       "2       2008-04-29  [Metacritic's 2008 PS3 Game of the Year; Also ...   \n",
       "3       1999-09-08  This is a tale of souls and swords, transcendi...   \n",
       "4       2008-04-29  [Metacritic's 2008 Xbox 360 Game of the Year; ...   \n",
       "...            ...                                                ...   \n",
       "18795   2013-05-21  Fast & Furious: Showdown takes some of the fra...   \n",
       "18796   2003-11-03  Drake is out for revenge in a supernatural Hon...   \n",
       "18797   2015-09-22  Head out on a journey of redemption, driven by...   \n",
       "18798   2012-10-15  (Formerly known as \"The War Z\") It has been 5 ...   \n",
       "18799   2009-03-31  The Leisure Suit Larry: Box Office Bust video ...   \n",
       "\n",
       "       meta_score  \n",
       "0              99  \n",
       "1              98  \n",
       "2              98  \n",
       "3              98  \n",
       "4              98  \n",
       "...           ...  \n",
       "18795          22  \n",
       "18796          22  \n",
       "18797          21  \n",
       "18798          20  \n",
       "18799          20  \n",
       "\n",
       "[18800 rows x 5 columns]"
      ]
     },
     "execution_count": 29,
     "metadata": {},
     "output_type": "execute_result"
    }
   ],
   "source": [
    "# Eliminar la columna\n",
    "print(\"\\033[1;31m\" + \"Eliminar Columna User_Review\" + \"\\033[0m\\n\")\n",
    "df_videojuegos.drop('user_review', axis = 1)"
   ]
  },
  {
   "cell_type": "code",
   "execution_count": 37,
   "id": "1f43aeed-f26b-4d17-bbeb-848712be843a",
   "metadata": {},
   "outputs": [
    {
     "name": "stdout",
     "output_type": "stream",
     "text": [
      "\u001b[1;31mEliminar Filas nulas en User_Review\u001b[0m\n",
      "\n",
      "<class 'pandas.core.frame.DataFrame'>\n",
      "RangeIndex: 18800 entries, 0 to 18799\n",
      "Data columns (total 6 columns):\n",
      " #   Column        Non-Null Count  Dtype         \n",
      "---  ------        --------------  -----         \n",
      " 0   name          18800 non-null  object        \n",
      " 1   platform      18800 non-null  object        \n",
      " 2   release_date  18800 non-null  datetime64[ns]\n",
      " 3   summary       18686 non-null  object        \n",
      " 4   meta_score    18800 non-null  int64         \n",
      " 5   user_review   17435 non-null  float64       \n",
      "dtypes: datetime64[ns](1), float64(1), int64(1), object(3)\n",
      "memory usage: 881.4+ KB\n"
     ]
    }
   ],
   "source": [
    "# Eliminar las filas en donde hace falta el dato en la columna 'director'\n",
    "\n",
    "print(\"\\033[1;31m\" + \"Eliminar Filas nulas en User_Review\" + \"\\033[0m\\n\")\n",
    "index = df_videojuegos[df_videojuegos['user_review'].isnull()].index\n",
    "df_videojuegos.drop(index, axis = 0)\n",
    "df_videojuegos.info()"
   ]
  },
  {
   "cell_type": "code",
   "execution_count": 39,
   "id": "88862ca6-689a-4e1d-8092-771346618b01",
   "metadata": {},
   "outputs": [
    {
     "name": "stdout",
     "output_type": "stream",
     "text": [
      "\u001b[1;31mReemplazar valores con Unknown\u001b[0m\n",
      "\n"
     ]
    },
    {
     "data": {
      "text/html": [
       "<div>\n",
       "<style scoped>\n",
       "    .dataframe tbody tr th:only-of-type {\n",
       "        vertical-align: middle;\n",
       "    }\n",
       "\n",
       "    .dataframe tbody tr th {\n",
       "        vertical-align: top;\n",
       "    }\n",
       "\n",
       "    .dataframe thead th {\n",
       "        text-align: right;\n",
       "    }\n",
       "</style>\n",
       "<table border=\"1\" class=\"dataframe\">\n",
       "  <thead>\n",
       "    <tr style=\"text-align: right;\">\n",
       "      <th></th>\n",
       "      <th>name</th>\n",
       "      <th>platform</th>\n",
       "      <th>release_date</th>\n",
       "      <th>summary</th>\n",
       "      <th>meta_score</th>\n",
       "      <th>user_review</th>\n",
       "    </tr>\n",
       "  </thead>\n",
       "  <tbody>\n",
       "    <tr>\n",
       "      <th>679</th>\n",
       "      <td>Synth Riders</td>\n",
       "      <td>PlayStation 4</td>\n",
       "      <td>2021-08-10</td>\n",
       "      <td>Synth Riders is your freestyle dancing VR rhyt...</td>\n",
       "      <td>89</td>\n",
       "      <td>Unknown</td>\n",
       "    </tr>\n",
       "    <tr>\n",
       "      <th>963</th>\n",
       "      <td>Tiger Woods PGA Tour 2005</td>\n",
       "      <td>GameCube</td>\n",
       "      <td>2004-09-20</td>\n",
       "      <td>Challenge professional golfer Tiger Woods to c...</td>\n",
       "      <td>88</td>\n",
       "      <td>Unknown</td>\n",
       "    </tr>\n",
       "    <tr>\n",
       "      <th>1277</th>\n",
       "      <td>NASCAR 2005: Chase for the Cup</td>\n",
       "      <td>Xbox</td>\n",
       "      <td>2004-08-31</td>\n",
       "      <td>Do you have what it takes to be a top NASCAR d...</td>\n",
       "      <td>86</td>\n",
       "      <td>Unknown</td>\n",
       "    </tr>\n",
       "    <tr>\n",
       "      <th>1472</th>\n",
       "      <td>Moto Racer Advance</td>\n",
       "      <td>Game Boy Advance</td>\n",
       "      <td>2002-12-05</td>\n",
       "      <td>NaN</td>\n",
       "      <td>86</td>\n",
       "      <td>Unknown</td>\n",
       "    </tr>\n",
       "    <tr>\n",
       "      <th>2098</th>\n",
       "      <td>Mushihimesama</td>\n",
       "      <td>Switch</td>\n",
       "      <td>2021-06-15</td>\n",
       "      <td>Mushihimesama (Bug Princess in English) is a v...</td>\n",
       "      <td>84</td>\n",
       "      <td>Unknown</td>\n",
       "    </tr>\n",
       "  </tbody>\n",
       "</table>\n",
       "</div>"
      ],
      "text/plain": [
       "                                name           platform release_date  \\\n",
       "679                     Synth Riders      PlayStation 4   2021-08-10   \n",
       "963        Tiger Woods PGA Tour 2005           GameCube   2004-09-20   \n",
       "1277  NASCAR 2005: Chase for the Cup               Xbox   2004-08-31   \n",
       "1472              Moto Racer Advance   Game Boy Advance   2002-12-05   \n",
       "2098                   Mushihimesama             Switch   2021-06-15   \n",
       "\n",
       "                                                summary  meta_score  \\\n",
       "679   Synth Riders is your freestyle dancing VR rhyt...          89   \n",
       "963   Challenge professional golfer Tiger Woods to c...          88   \n",
       "1277  Do you have what it takes to be a top NASCAR d...          86   \n",
       "1472                                                NaN          86   \n",
       "2098  Mushihimesama (Bug Princess in English) is a v...          84   \n",
       "\n",
       "     user_review  \n",
       "679      Unknown  \n",
       "963      Unknown  \n",
       "1277     Unknown  \n",
       "1472     Unknown  \n",
       "2098     Unknown  "
      ]
     },
     "execution_count": 39,
     "metadata": {},
     "output_type": "execute_result"
    }
   ],
   "source": [
    "# Reemplazar los valores nulos con Unknown\n",
    "\n",
    "print(\"\\033[1;31m\" + \"Reemplazar valores con Unknown\" + \"\\033[0m\\n\")\n",
    "df_videojuegos['user_review'] = df_videojuegos['user_review'].fillna('Unknown')\n",
    "df_videojuegos[df_videojuegos['user_review'] == \"Unknown\"].head()"
   ]
  },
  {
   "cell_type": "code",
   "execution_count": 41,
   "id": "0ea528c5-89f0-4dfe-95af-025bb5a8ff86",
   "metadata": {},
   "outputs": [
    {
     "name": "stdout",
     "output_type": "stream",
     "text": [
      "\u001b[1;31mRellenar Valores Nulos en Summary\u001b[0m\n"
     ]
    },
    {
     "data": {
      "text/plain": [
       "0"
      ]
     },
     "execution_count": 41,
     "metadata": {},
     "output_type": "execute_result"
    }
   ],
   "source": [
    "# Valores nulos en rating\n",
    "\n",
    "df_videojuegos['summary'].unique()\n",
    "moda = df_videojuegos['summary'].mode()[0]\n",
    "df_videojuegos['summary'] = df_videojuegos['summary'].fillna(moda)\n",
    "print(\"\\033[1;31m\" + \"Rellenar Valores Nulos en Summary\" + \"\\033[0m\")\n",
    "df_videojuegos['summary'].isnull().sum()"
   ]
  },
  {
   "cell_type": "code",
   "execution_count": 43,
   "id": "4d99aff2-0502-43b6-b13d-945b2aba9345",
   "metadata": {},
   "outputs": [
    {
     "name": "stdout",
     "output_type": "stream",
     "text": [
      "\u001b[1;31mModa de Columna Platform\u001b[0m\n"
     ]
    },
    {
     "data": {
      "text/plain": [
       "' PC'"
      ]
     },
     "execution_count": 43,
     "metadata": {},
     "output_type": "execute_result"
    }
   ],
   "source": [
    "# Obtener la moda de la columna platform\n",
    "\n",
    "print(\"\\033[1;31m\" + \"Moda de Columna Platform\" + \"\\033[0m\")\n",
    "moda = \"\".join(df_videojuegos['platform'].mode())\n",
    "moda"
   ]
  },
  {
   "cell_type": "code",
   "execution_count": 45,
   "id": "8dd09817-f17c-49b2-bbf7-5176a49855c2",
   "metadata": {},
   "outputs": [
    {
     "name": "stdout",
     "output_type": "stream",
     "text": [
      "\u001b[1;31mRellenar con Moda\u001b[0m\n",
      "\n",
      "\u001b[1;33mValores Nulos:\u001b[0m 0\n"
     ]
    }
   ],
   "source": [
    "# Rellenar valores nulos con la moda\n",
    "\n",
    "print(\"\\033[1;31m\" + \"Rellenar con Moda\" + \"\\033[0m\\n\")\n",
    "df_videojuegos['platform'] = df_videojuegos['platform'].fillna(moda)\n",
    "print(\"\\033[1;33m\" + \"Valores Nulos:\" + \"\\033[0m\", df_videojuegos['platform'].isnull().sum())"
   ]
  },
  {
   "cell_type": "code",
   "execution_count": 49,
   "id": "6c72fbd4-6e5a-4d7b-8a8c-4f071c844b22",
   "metadata": {},
   "outputs": [
    {
     "data": {
      "text/plain": [
       "0"
      ]
     },
     "execution_count": 49,
     "metadata": {},
     "output_type": "execute_result"
    }
   ],
   "source": [
    "df_videojuegos['user_review'].isnull().sum()"
   ]
  },
  {
   "cell_type": "code",
   "execution_count": 55,
   "id": "62856180-6b85-457c-98df-404e3ada2043",
   "metadata": {},
   "outputs": [
    {
     "name": "stdout",
     "output_type": "stream",
     "text": [
      "\u001b[1;35mColumnas con valores numéricos\u001b[0m\n"
     ]
    },
    {
     "data": {
      "text/plain": [
       "Index(['meta_score'], dtype='object')"
      ]
     },
     "execution_count": 55,
     "metadata": {},
     "output_type": "execute_result"
    }
   ],
   "source": [
    "# Obtener las columnas con valores numéricos\n",
    "cols_numericos = df_videojuegos._get_numeric_data().columns\n",
    "\n",
    "# Obtener las columnas con valores categóricos\n",
    "cols_cat = df_videojuegos.select_dtypes(include = [\"object\"]).columns\n",
    "\n",
    "print(\"\\033[1;35m\" + \"Columnas con valores numéricos\" + \"\\033[0m\")\n",
    "cols_numericos"
   ]
  },
  {
   "cell_type": "code",
   "execution_count": 59,
   "id": "fad94126-1bff-454d-9f92-b8620adb3f04",
   "metadata": {},
   "outputs": [
    {
     "name": "stdout",
     "output_type": "stream",
     "text": [
      "\u001b[1;31mValores de Columna Meta Score\u001b[0m\n",
      "\n"
     ]
    },
    {
     "data": {
      "text/plain": [
       "meta_score\n",
       "80    701\n",
       "75    681\n",
       "73    675\n",
       "76    669\n",
       "77    665\n",
       "     ... \n",
       "98      4\n",
       "20      2\n",
       "22      2\n",
       "21      1\n",
       "99      1\n",
       "Name: count, Length: 80, dtype: int64"
      ]
     },
     "execution_count": 59,
     "metadata": {},
     "output_type": "execute_result"
    }
   ],
   "source": [
    "# Identificar los diferentes valores de la columna 'meta_score'\n",
    "\n",
    "print(\"\\033[1;31m\" + \"Valores de Columna Meta Score\" + \"\\033[0m\\n\")\n",
    "df_videojuegos.value_counts('meta_score')"
   ]
  },
  {
   "cell_type": "code",
   "execution_count": 61,
   "id": "7755e16c-aef6-44cb-9c23-90da286627d8",
   "metadata": {},
   "outputs": [
    {
     "name": "stdout",
     "output_type": "stream",
     "text": [
      "\u001b[1;31mHistograma\u001b[0m\n",
      "\n"
     ]
    },
    {
     "data": {
      "text/plain": [
       "<Axes: ylabel='Frequency'>"
      ]
     },
     "execution_count": 61,
     "metadata": {},
     "output_type": "execute_result"
    },
    {
     "data": {
      "image/png": "[encoded data removed]",
      "text/plain": [
       "<Figure size 640x480 with 1 Axes>"
      ]
     },
     "metadata": {},
     "output_type": "display_data"
    }
   ],
   "source": [
    "# Graficar los valores de la columna 'meta score'\n",
    "\n",
    "print(\"\\033[1;31m\" + \"Histograma\" + \"\\033[0m\\n\")\n",
    "df_videojuegos['meta_score'].plot(kind = 'hist', bins = 10)"
   ]
  },
  {
   "cell_type": "code",
   "execution_count": 63,
   "id": "c33fc610-49ee-4062-a254-69cb2177647c",
   "metadata": {},
   "outputs": [
    {
     "name": "stdout",
     "output_type": "stream",
     "text": [
      "\u001b[1;33mRangos de valores\u001b[0m\n",
      "\n"
     ]
    },
    {
     "data": {
      "text/plain": [
       "(19.919999999999998, 27.9]      48\n",
       "(27.9, 35.8]                   139\n",
       "(35.8, 43.7]                   406\n",
       "(43.7, 51.6]                   893\n",
       "(51.6, 59.5]                  1736\n",
       "(59.5, 67.4]                  3214\n",
       "(67.4, 75.3]                  5043\n",
       "(75.3, 83.2]                  4964\n",
       "(83.2, 91.1]                  2085\n",
       "(91.1, 99.0]                   272\n",
       "Name: count, dtype: int64"
      ]
     },
     "execution_count": 63,
     "metadata": {},
     "output_type": "execute_result"
    }
   ],
   "source": [
    "# Obtener los rangos de valores de acuerdo a la gráfica\n",
    "\n",
    "print(\"\\033[1;33m\" + \"Rangos de valores\" + \"\\033[0m\\n\")\n",
    "df_videojuegos['meta_score'].value_counts(bins = 10).sort_index()"
   ]
  },
  {
   "cell_type": "code",
   "execution_count": 65,
   "id": "535bcc48-b178-457a-9e35-f8e492370f76",
   "metadata": {},
   "outputs": [
    {
     "name": "stdout",
     "output_type": "stream",
     "text": [
      "\u001b[1;31mEliminar Datos Atípicos\u001b[0m\n",
      "\n"
     ]
    }
   ],
   "source": [
    "# Ver los datos atípicos: > 33.9 y < 219\n",
    "# Eliminar los outlayers\n",
    "\n",
    "print(\"\\033[1;31m\" + \"Eliminar Datos Atípicos\" + \"\\033[0m\\n\")\n",
    "df_videojuegos = df_videojuegos[~((df_videojuegos['meta_score'] < 27.9) | (df_videojuegos['meta_score'] > 90))]"
   ]
  },
  {
   "cell_type": "code",
   "execution_count": 67,
   "id": "94b66419-fa2c-4915-af38-0a9e6efbee45",
   "metadata": {},
   "outputs": [
    {
     "data": {
      "text/plain": [
       "<Axes: >"
      ]
     },
     "execution_count": 67,
     "metadata": {},
     "output_type": "execute_result"
    },
    {
     "data": {
      "image/png": "[encoded data removed]",
      "text/plain": [
       "<Figure size 640x480 with 1 Axes>"
      ]
     },
     "metadata": {},
     "output_type": "display_data"
    }
   ],
   "source": [
    "df_videojuegos['meta_score'].plot(kind = 'box', vert = False)"
   ]
  }
 ],
 "metadata": {
  "kernelspec": {
   "display_name": "Python [conda env:base] *",
   "language": "python",
   "name": "conda-base-py"
  },
  "language_info": {
   "codemirror_mode": {
    "name": "ipython",
    "version": 3
   },
   "file_extension": ".py",
   "mimetype": "text/x-python",
   "name": "python",
   "nbconvert_exporter": "python",
   "pygments_lexer": "ipython3",
   "version": "3.12.7"
  }
 },
 "nbformat": 4,
 "nbformat_minor": 5
}
