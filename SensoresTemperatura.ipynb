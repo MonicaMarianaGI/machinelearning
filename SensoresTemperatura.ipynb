{
 "cells": [
  {
   "cell_type": "markdown",
   "id": "c8f6e4a9-2fef-4071-8ec2-0594cb9dc5a6",
   "metadata": {},
   "source": [
    "# Análisis de Datos de un Sensor de Temperatura\n",
    "\n",
    "### Tenemos datos de temperatura registrados cada hora en diferentes sensores durante una semana. Usaremos NumPy para:\n",
    "\n",
    "### - Generar datos aleatorios de temperatura.\n",
    "### - Aplanar los arreglos para facilitar análisis.\n",
    "### - Concatenar datos de diferentes sensores.\n",
    "### - Cambiar la forma para organizar los datos por días.\n",
    "### - Aplicar indexación y slicing para extraer información.\n",
    "### - Manejar tipos de datos."
   ]
  },
  {
   "cell_type": "markdown",
   "id": "9a3614fc-d304-48c6-9898-cd1d46cba25d",
   "metadata": {},
   "source": [
    "## 1. Generar datos aleatorios\n",
    "\n",
    "Generamos datos de temperatura simulados para 3 sensores durante una semana (7 días, 24 horas por día)."
   ]
  },
  {
   "cell_type": "code",
   "execution_count": 66,
   "id": "4aab9018-3e40-4e5f-9f08-601ae122cd88",
   "metadata": {},
   "outputs": [
    {
     "name": "stdout",
     "output_type": "stream",
     "text": [
      "Sensor 1\n",
      "[[22 19 28 30 26 23 28 20 22 25 18 22 26 26 23 20 19 23 23 18 21 20 17 23]\n",
      " [27 29 21 17 31 27 20 16 27 25 21 28 27 24 16 26 26 30 25 31 27 27 31 30]\n",
      " [29 29 30 29 18 27 22 19 31 24 18 20 18 22 20 24 22 17 19 24 27 29 17 25]\n",
      " [24 25 20 17 19 27 30 27 22 27 28 23 30 18 29 16 19 17 23 19 17 29 21 21]\n",
      " [25 19 21 28 30 17 25 27 17 25 29 19 29 30 31 30 23 29 22 27 24 29 23 20]\n",
      " [31 28 17 30 20 23 25 24 27 27 27 28 24 28 30 28 16 24 22 24 23 16 27 23]\n",
      " [23 30 26 18 16 23 18 18 16 26 20 25 22 25 24 27 22 24 23 27 17 16 31 22]]\n",
      "Sensor 2\n",
      "[[22 29 23 20 18 27 23 21 26 18 16 18 20 30 29 18 16 20 25 22 30 29 22 26]\n",
      " [24 30 30 25 25 27 28 18 30 31 22 16 19 28 31 19 29 20 22 22 28 30 26 28]\n",
      " [19 28 31 22 26 18 21 27 17 25 28 29 24 20 21 27 27 27 27 19 29 29 26 31]\n",
      " [25 22 27 24 22 29 16 16 24 26 29 24 19 28 24 18 22 21 23 26 24 29 20 16]\n",
      " [18 25 27 23 30 26 21 31 31 23 24 19 16 29 16 25 19 27 29 22 17 18 16 20]\n",
      " [16 23 16 26 16 17 17 27 21 22 20 31 16 16 18 29 17 20 27 25 31 21 31 22]\n",
      " [19 22 26 23 26 16 30 21 23 20 19 17 21 21 26 30 31 31 16 24 27 26 21 31]]\n",
      "Sensor 3\n",
      "[[28 18 19 27 26 19 18 25 18 30 18 19 31 22 19 24 16 23 31 22 17 23 16 26]\n",
      " [27 24 24 17 22 30 29 25 18 22 27 31 25 31 24 19 27 16 17 16 31 29 27 20]\n",
      " [20 31 26 22 24 24 18 18 31 31 18 19 23 21 23 16 23 19 26 16 23 19 21 23]\n",
      " [19 29 18 31 29 24 18 24 28 17 31 29 17 17 21 18 31 28 24 19 16 19 16 29]\n",
      " [20 31 19 23 31 23 22 18 16 31 16 31 27 26 18 21 22 21 29 29 21 21 28 18]\n",
      " [21 23 26 26 17 20 29 16 27 30 31 16 20 27 28 31 18 19 18 31 16 31 16 27]\n",
      " [27 29 28 29 20 21 18 27 24 20 23 28 16 29 20 30 18 27 16 19 30 28 20 31]]\n",
      "Muestra\n",
      "[27 29 21 17 31 27 20 16 27 25 21 28 27 24 16 26 26 30 25 31 27 27 31 30]\n"
     ]
    }
   ],
   "source": [
    "import numpy as np\n",
    "\n",
    "# Fijar semilla para reproducibilidad\n",
    "np.random.seed(42)\n",
    "\n",
    "\n",
    "# Generar datos aleatorios de temperatura (en °C) para 3 sensores (7 días x 24 horas)\n",
    "sensor1 = np.random.randint(16,32, (7,24))\n",
    "sensor2 = np.random.randint(16,32, (7,24))\n",
    "sensor3 = np.random.randint(16,32, (7,24))\n",
    "print('Sensor 1')\n",
    "print(sensor1)\n",
    "print('Sensor 2')\n",
    "print(sensor2)\n",
    "print('Sensor 3')\n",
    "print(sensor3)\n",
    "# Mostrar una muestra de datos del primeri día\n",
    "muestra = sensor1[1,:]\n",
    "print('Muestra')\n",
    "print(muestra)"
   ]
  },
  {
   "cell_type": "markdown",
   "id": "df289951-9d9d-4209-bc6f-580f55e9409d",
   "metadata": {},
   "source": [
    "## 2. Aplanar los datos\n",
    "\n",
    "Convertir la matriz de (7,24) en un arreglo de 168 valores (7 días x 24 horas)."
   ]
  },
  {
   "cell_type": "code",
   "execution_count": 22,
   "id": "aaf1fa12-d6b2-4518-be52-21e1239f4561",
   "metadata": {},
   "outputs": [
    {
     "data": {
      "text/plain": [
       "array([22, 19, 28, 30, 26, 23, 28, 20, 22, 25, 18, 22, 26, 26, 23, 20, 19,\n",
       "       23, 23, 18, 21, 20, 17, 23, 27, 29, 21, 17, 31, 27, 20, 16, 27, 25,\n",
       "       21, 28, 27, 24, 16, 26, 26, 30, 25, 31, 27, 27, 31, 30, 29, 29, 30,\n",
       "       29, 18, 27, 22, 19, 31, 24, 18, 20, 18, 22, 20, 24, 22, 17, 19, 24,\n",
       "       27, 29, 17, 25, 24, 25, 20, 17, 19, 27, 30, 27, 22, 27, 28, 23, 30,\n",
       "       18, 29, 16, 19, 17, 23, 19, 17, 29, 21, 21, 25, 19, 21, 28, 30, 17,\n",
       "       25, 27, 17, 25, 29, 19, 29, 30, 31, 30, 23, 29, 22, 27, 24, 29, 23,\n",
       "       20, 31, 28, 17, 30, 20, 23, 25, 24, 27, 27, 27, 28, 24, 28, 30, 28,\n",
       "       16, 24, 22, 24, 23, 16, 27, 23, 23, 30, 26, 18, 16, 23, 18, 18, 16,\n",
       "       26, 20, 25, 22, 25, 24, 27, 22, 24, 23, 27, 17, 16, 31, 22])"
      ]
     },
     "execution_count": 22,
     "metadata": {},
     "output_type": "execute_result"
    }
   ],
   "source": [
    "\n",
    "# sensor_1_flat = sensor_1.ravel()\n",
    "arr = sensor1.flatten()\n",
    "arr\n",
    "\n",
    "\n"
   ]
  },
  {
   "cell_type": "markdown",
   "id": "795de062-d38f-4ffb-a426-9cb4c01febf9",
   "metadata": {},
   "source": [
    "## 3. Concatenar los datos de los sensores\n",
    "\n",
    "Juntamos los datos de los 3 sensores para tener una matriz más grande.\n"
   ]
  },
  {
   "cell_type": "code",
   "execution_count": 24,
   "id": "bd09d5aa-e427-422a-9f72-d5ccd6f3ed4b",
   "metadata": {},
   "outputs": [
    {
     "data": {
      "text/plain": [
       "array([[22, 19, 28, 30, 26, 23, 28, 20, 22, 25, 18, 22, 26, 26, 23, 20,\n",
       "        19, 23, 23, 18, 21, 20, 17, 23],\n",
       "       [27, 29, 21, 17, 31, 27, 20, 16, 27, 25, 21, 28, 27, 24, 16, 26,\n",
       "        26, 30, 25, 31, 27, 27, 31, 30],\n",
       "       [29, 29, 30, 29, 18, 27, 22, 19, 31, 24, 18, 20, 18, 22, 20, 24,\n",
       "        22, 17, 19, 24, 27, 29, 17, 25],\n",
       "       [24, 25, 20, 17, 19, 27, 30, 27, 22, 27, 28, 23, 30, 18, 29, 16,\n",
       "        19, 17, 23, 19, 17, 29, 21, 21],\n",
       "       [25, 19, 21, 28, 30, 17, 25, 27, 17, 25, 29, 19, 29, 30, 31, 30,\n",
       "        23, 29, 22, 27, 24, 29, 23, 20],\n",
       "       [31, 28, 17, 30, 20, 23, 25, 24, 27, 27, 27, 28, 24, 28, 30, 28,\n",
       "        16, 24, 22, 24, 23, 16, 27, 23],\n",
       "       [23, 30, 26, 18, 16, 23, 18, 18, 16, 26, 20, 25, 22, 25, 24, 27,\n",
       "        22, 24, 23, 27, 17, 16, 31, 22],\n",
       "       [22, 29, 23, 20, 18, 27, 23, 21, 26, 18, 16, 18, 20, 30, 29, 18,\n",
       "        16, 20, 25, 22, 30, 29, 22, 26],\n",
       "       [24, 30, 30, 25, 25, 27, 28, 18, 30, 31, 22, 16, 19, 28, 31, 19,\n",
       "        29, 20, 22, 22, 28, 30, 26, 28],\n",
       "       [19, 28, 31, 22, 26, 18, 21, 27, 17, 25, 28, 29, 24, 20, 21, 27,\n",
       "        27, 27, 27, 19, 29, 29, 26, 31],\n",
       "       [25, 22, 27, 24, 22, 29, 16, 16, 24, 26, 29, 24, 19, 28, 24, 18,\n",
       "        22, 21, 23, 26, 24, 29, 20, 16],\n",
       "       [18, 25, 27, 23, 30, 26, 21, 31, 31, 23, 24, 19, 16, 29, 16, 25,\n",
       "        19, 27, 29, 22, 17, 18, 16, 20],\n",
       "       [16, 23, 16, 26, 16, 17, 17, 27, 21, 22, 20, 31, 16, 16, 18, 29,\n",
       "        17, 20, 27, 25, 31, 21, 31, 22],\n",
       "       [19, 22, 26, 23, 26, 16, 30, 21, 23, 20, 19, 17, 21, 21, 26, 30,\n",
       "        31, 31, 16, 24, 27, 26, 21, 31],\n",
       "       [28, 18, 19, 27, 26, 19, 18, 25, 18, 30, 18, 19, 31, 22, 19, 24,\n",
       "        16, 23, 31, 22, 17, 23, 16, 26],\n",
       "       [27, 24, 24, 17, 22, 30, 29, 25, 18, 22, 27, 31, 25, 31, 24, 19,\n",
       "        27, 16, 17, 16, 31, 29, 27, 20],\n",
       "       [20, 31, 26, 22, 24, 24, 18, 18, 31, 31, 18, 19, 23, 21, 23, 16,\n",
       "        23, 19, 26, 16, 23, 19, 21, 23],\n",
       "       [19, 29, 18, 31, 29, 24, 18, 24, 28, 17, 31, 29, 17, 17, 21, 18,\n",
       "        31, 28, 24, 19, 16, 19, 16, 29],\n",
       "       [20, 31, 19, 23, 31, 23, 22, 18, 16, 31, 16, 31, 27, 26, 18, 21,\n",
       "        22, 21, 29, 29, 21, 21, 28, 18],\n",
       "       [21, 23, 26, 26, 17, 20, 29, 16, 27, 30, 31, 16, 20, 27, 28, 31,\n",
       "        18, 19, 18, 31, 16, 31, 16, 27],\n",
       "       [27, 29, 28, 29, 20, 21, 18, 27, 24, 20, 23, 28, 16, 29, 20, 30,\n",
       "        18, 27, 16, 19, 30, 28, 20, 31]])"
      ]
     },
     "execution_count": 24,
     "metadata": {},
     "output_type": "execute_result"
    }
   ],
   "source": [
    "# datos_concatenados = np.concatenate((sensor_1_flat, sensor_2.flatten(), sensor_3.flatten()))\n",
    "sensores = np.concatenate((sensor1, sensor2, sensor3))\n",
    "sensores\n"
   ]
  },
  {
   "cell_type": "markdown",
   "id": "99608d92-d2b7-4b70-823c-c79e91c64a1d",
   "metadata": {},
   "source": [
    "## 4. Cambiar la forma de los datos\n",
    "\n",
    "Reorganizamos los datos en una matriz de (7 días, 24 horas, 3 sensores) para facilitar el análisis."
   ]
  },
  {
   "cell_type": "code",
   "execution_count": 34,
   "id": "4f7b4e59-2c16-480b-baa7-6ed2d65bc1bf",
   "metadata": {},
   "outputs": [
    {
     "name": "stdout",
     "output_type": "stream",
     "text": [
      "Primeras 2 horas del primer dia del sensor 1: [22 19]\n",
      "Primeras 2 horas del primer dia del sensor 2: [22 29]\n",
      "Primeras 2 horas del primer dia del sensor 3: [28 18]\n"
     ]
    }
   ],
   "source": [
    "# Mostrar del primer dia, las primeras dos horas de los 3 sensores\n",
    "\n",
    "sensor_1 = sensor1[0,0:2]\n",
    "sensor_2 = sensor2[0,0:2]\n",
    "sensor_3 = sensor3[0,0:2]\n",
    "print(f\"Primeras 2 horas del primer dia del sensor 1: {sensor_1}\")\n",
    "print(f\"Primeras 2 horas del primer dia del sensor 2: {sensor_2}\")\n",
    "print(f\"Primeras 2 horas del primer dia del sensor 3: {sensor_3}\")\n"
   ]
  },
  {
   "cell_type": "markdown",
   "id": "25a481ab-b75e-4fc3-8be4-29340eba6069",
   "metadata": {},
   "source": [
    "## 5. Indexación y slicing\n",
    "\n",
    "Extraer información especifica"
   ]
  },
  {
   "cell_type": "code",
   "execution_count": 52,
   "id": "a38ca568-aa7a-4d9c-bf1c-6daadb77f0f3",
   "metadata": {},
   "outputs": [
    {
     "name": "stdout",
     "output_type": "stream",
     "text": [
      "29\n",
      "Dia 5 de los 3 sensores\n",
      "[25 19 21 28 30 17 25 27 17 25 29 19 29 30 31 30 23 29 22 27 24 29 23 20]\n",
      "[18 25 27 23 30 26 21 31 31 23 24 19 16 29 16 25 19 27 29 22 17 18 16 20]\n",
      "[20 31 19 23 31 23 22 18 16 31 16 31 27 26 18 21 22 21 29 29 21 21 28 18]\n"
     ]
    }
   ],
   "source": [
    "# Temperatura del sensor 2, día 3, hora 12\n",
    "sl = sensor2[2,11]\n",
    "print(sl)\n",
    "\n",
    "\n",
    "# Datos del día 5 para todos los sensores\n",
    "data = sensor1[4,0:], sensor2[4,0:], sensor3[4,0:]\n",
    "print('Dia 5 de los 3 sensores')\n",
    "for a in data:\n",
    "    print(a)"
   ]
  },
  {
   "cell_type": "markdown",
   "id": "137fbfaf-3c59-472c-b557-df1ce761d28e",
   "metadata": {},
   "source": [
    "## 6. Convertir tipos de datos\n",
    "\n",
    "Para ahorrar memoria, convertimos los datos de float64 a float32\n",
    "\n"
   ]
  },
  {
   "cell_type": "code",
   "execution_count": 72,
   "id": "3c40a12b-948b-44a6-8ad9-1f13dbb1c358",
   "metadata": {},
   "outputs": [
    {
     "name": "stdout",
     "output_type": "stream",
     "text": [
      "float32\n",
      "float32\n",
      "float32\n"
     ]
    }
   ],
   "source": [
    "sensor1 = np.array(sensor1, dtype=np.float32)\n",
    "print(sensor1.dtype)\n",
    "sensor2 = np.array(sensor2, dtype=np.float32)\n",
    "print(sensor2.dtype)\n",
    "sensor3 = np.array(sensor3, dtype=np.float32)\n",
    "print(sensor3.dtype)"
   ]
  }
 ],
 "metadata": {
  "kernelspec": {
   "display_name": "Python [conda env:base] *",
   "language": "python",
   "name": "conda-base-py"
  },
  "language_info": {
   "codemirror_mode": {
    "name": "ipython",
    "version": 3
   },
   "file_extension": ".py",
   "mimetype": "text/x-python",
   "name": "python",
   "nbconvert_exporter": "python",
   "pygments_lexer": "ipython3",
   "version": "3.12.7"
  }
 },
 "nbformat": 4,
 "nbformat_minor": 5
}
