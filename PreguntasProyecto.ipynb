{
 "cells": [
  {
   "cell_type": "markdown",
   "id": "afaf7edf-25c6-4f96-a4e0-849082786ea5",
   "metadata": {},
   "source": [
    "# Sistema de recomendación de películas"
   ]
  },
  {
   "cell_type": "markdown",
   "id": "f405f93b-61d9-49ea-a176-a51e60762d02",
   "metadata": {},
   "source": [
    "### ¿Qué problema se quiere resolver?"
   ]
  },
  {
   "cell_type": "code",
   "execution_count": null,
   "id": "63277e3c-38fe-497f-9bfd-f2ab8453c296",
   "metadata": {},
   "outputs": [],
   "source": [
    "El objetivo es ayudar a los usuarios a encontrar películas que les interesen, reduciendo el tiempo que tardan en decidir qué ver. \n",
    "Un sistema de recomendación puede mejorar la experiencia del usuario al sugerir películas basadas en sus preferencias previas, \n",
    "valoraciones y patrones de otros usuarios con gustos similares."
   ]
  },
  {
   "cell_type": "markdown",
   "id": "24c683fc-3150-4e8d-838c-8fe1d3249958",
   "metadata": {},
   "source": [
    "### ¿Tiene datos suficientes y de calidad?"
   ]
  },
  {
   "cell_type": "markdown",
   "id": "23473d2f-36e3-4f76-bf3b-03fea219fdc4",
   "metadata": {},
   "source": [
    "Existen datasets públicos como MovieLens (de GroupLens) que contienen información detallada sobre películas, calificaciones de usuarios y géneros. \n",
    "Estos datos son de calidad, ya que han sido recopilados de una comunidad activa y suelen estar bien estructurados. \n",
    "También se pueden complementar con metadatos de películas desde fuentes como IMDb o The Movie Database (TMDb)."
   ]
  },
  {
   "cell_type": "markdown",
   "id": "c0a9cfd1-dffd-4513-b69b-dbeffc0024c2",
   "metadata": {},
   "source": [
    "### ¿Qué metrica garantizará el exito del modelo?"
   ]
  },
  {
   "cell_type": "markdown",
   "id": "38f0c906-e206-4979-9abb-69ec50fdb8d8",
   "metadata": {},
   "source": [
    "Elegimos NDCG (Normalized Discounted Cumulative Gain) porque mide qué tan relevantes son las películas en la lista de recomendaciones y da más peso a las películas que aparecen en las primeras posiciones.\n",
    "\n",
    "Explicación de NDCG:\n",
    "Se basa en la relevancia asignada a cada recomendación según las calificaciones reales del usuario.\n",
    "Penaliza si una película relevante aparece en una posición baja de la lista.\n",
    "Su valor varía entre 0 y 1, donde 1 significa que el modelo ordenó perfectamente las películas más relevantes en los primeros lugares.\n",
    "Interpretación:\n",
    "Un NDCG cercano a 1 indica que el sistema recomienda películas relevantes en las primeras posiciones, lo que mejora la experiencia del usuario.\n",
    "Si NDCG es bajo, significa que las recomendaciones no son útiles o están mal ordenadas, lo que sugiere que se debe ajustar el modelo (por ejemplo, mejorando el filtrado colaborativo o el procesamiento de texto en descripciones de películas).\n"
   ]
  }
 ],
 "metadata": {
  "kernelspec": {
   "display_name": "Python [conda env:base] *",
   "language": "python",
   "name": "conda-base-py"
  },
  "language_info": {
   "codemirror_mode": {
    "name": "ipython",
    "version": 3
   },
   "file_extension": ".py",
   "mimetype": "text/x-python",
   "name": "python",
   "nbconvert_exporter": "python",
   "pygments_lexer": "ipython3",
   "version": "3.12.7"
  }
 },
 "nbformat": 4,
 "nbformat_minor": 5
}
